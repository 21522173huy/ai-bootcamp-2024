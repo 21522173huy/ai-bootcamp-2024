{
  "cells": [
    {
      "cell_type": "code",
      "execution_count": 1,
      "metadata": {
        "colab": {
          "base_uri": "https://localhost:8080/"
        },
        "id": "BXBHUyAhY9ms",
        "outputId": "992fa3d8-51d2-46d6-9ffe-752b7e4f5fa0"
      },
      "outputs": [
        {
          "name": "stdout",
          "output_type": "stream",
          "text": [
            "Cloning into 'ai-bootcamp-2024'...\n",
            "remote: Enumerating objects: 111, done.\u001b[K\n",
            "remote: Counting objects: 100% (35/35), done.\u001b[K\n",
            "remote: Compressing objects: 100% (25/25), done.\u001b[K\n",
            "remote: Total 111 (delta 18), reused 11 (delta 10), pack-reused 76\u001b[K\n",
            "Receiving objects: 100% (111/111), 17.62 MiB | 12.77 MiB/s, done.\n",
            "Resolving deltas: 100% (26/26), done.\n"
          ]
        }
      ],
      "source": [
        "!git clone https://github.com/21522173huy/ai-bootcamp-2024"
      ]
    },
    {
      "cell_type": "code",
      "execution_count": 1,
      "metadata": {
        "colab": {
          "base_uri": "https://localhost:8080/"
        },
        "id": "uhbgjOkIZLJx",
        "outputId": "63923e34-151c-492f-9b3e-588420e8ba0a"
      },
      "outputs": [
        {
          "name": "stdout",
          "output_type": "stream",
          "text": [
            "/content/ai-bootcamp-2024\n"
          ]
        }
      ],
      "source": [
        "%cd ai-bootcamp-2024"
      ]
    },
    {
      "cell_type": "code",
      "execution_count": null,
      "metadata": {
        "colab": {
          "base_uri": "https://localhost:8080/",
          "height": 1000
        },
        "collapsed": true,
        "id": "jMH0ITJeglWm",
        "outputId": "ff5a1015-27cd-4422-fd4c-74557ef719a2"
      },
      "outputs": [],
      "source": [
        "!pip install -r requirements.txt"
      ]
    },
    {
      "cell_type": "code",
      "execution_count": 3,
      "metadata": {
        "colab": {
          "base_uri": "https://localhost:8080/"
        },
        "id": "WEQMfwxRt0bB",
        "outputId": "bbefbe10-fa12-4abe-c92a-629ea91a30ba"
      },
      "outputs": [
        {
          "name": "stdout",
          "output_type": "stream",
          "text": [
            "2024-07-27 11:13:03.380981: E external/local_xla/xla/stream_executor/cuda/cuda_dnn.cc:9261] Unable to register cuDNN factory: Attempting to register factory for plugin cuDNN when one has already been registered\n",
            "2024-07-27 11:13:03.381039: E external/local_xla/xla/stream_executor/cuda/cuda_fft.cc:607] Unable to register cuFFT factory: Attempting to register factory for plugin cuFFT when one has already been registered\n",
            "2024-07-27 11:13:03.510463: E external/local_xla/xla/stream_executor/cuda/cuda_blas.cc:1515] Unable to register cuBLAS factory: Attempting to register factory for plugin cuBLAS when one has already been registered\n",
            "2024-07-27 11:13:03.759936: I tensorflow/core/platform/cpu_feature_guard.cc:182] This TensorFlow binary is optimized to use available CPU instructions in performance-critical operations.\n",
            "To enable the following instructions: AVX2 FMA, in other operations, rebuild TensorFlow with the appropriate compiler flags.\n",
            "2024-07-27 11:13:05.677962: W tensorflow/compiler/tf2tensorrt/utils/py_utils.cc:38] TF-TRT Warning: Could not find TensorRT\n",
            "Downloading builder script: 100% 7.95k/7.95k [00:00<00:00, 24.3MB/s]\n",
            "Use cuda \n",
            "  0% 0/72 [00:00<?, ?it/s]============\n",
            "\n",
            "tokenizer_config.json: 100% 48.0/48.0 [00:00<00:00, 337kB/s]\n",
            "\n",
            "config.json: 100% 570/570 [00:00<00:00, 3.41MB/s]\n",
            "\n",
            "vocab.txt: 100% 232k/232k [00:00<00:00, 10.4MB/s]\n",
            "\n",
            "tokenizer.json: 100% 466k/466k [00:00<00:00, 49.6MB/s]\n",
            "\n",
            "model.safetensors:   0% 0.00/440M [00:00<?, ?B/s]\u001b[A\n",
            "model.safetensors:   5% 21.0M/440M [00:00<00:02, 151MB/s]\u001b[A\n",
            "model.safetensors:  12% 52.4M/440M [00:00<00:01, 195MB/s]\u001b[A\n",
            "model.safetensors:  17% 73.4M/440M [00:00<00:01, 200MB/s]\u001b[A\n",
            "model.safetensors:  21% 94.4M/440M [00:00<00:01, 201MB/s]\u001b[A\n",
            "model.safetensors:  26% 115M/440M [00:00<00:01, 197MB/s] \u001b[A\n",
            "model.safetensors:  31% 136M/440M [00:00<00:01, 166MB/s]\u001b[A\n",
            "model.safetensors:  36% 157M/440M [00:00<00:01, 163MB/s]\u001b[A\n",
            "model.safetensors:  40% 178M/440M [00:01<00:01, 169MB/s]\u001b[A\n",
            "model.safetensors:  45% 199M/440M [00:01<00:01, 165MB/s]\u001b[A\n",
            "model.safetensors:  50% 220M/440M [00:01<00:01, 173MB/s]\u001b[A\n",
            "model.safetensors:  55% 241M/440M [00:01<00:01, 179MB/s]\u001b[A\n",
            "model.safetensors:  60% 262M/440M [00:02<00:04, 43.0MB/s]\u001b[A\n",
            "model.safetensors:  64% 283M/440M [00:02<00:02, 53.9MB/s]\u001b[A\n",
            "model.safetensors:  69% 304M/440M [00:02<00:01, 69.4MB/s]\u001b[A\n",
            "model.safetensors:  74% 325M/440M [00:03<00:01, 86.4MB/s]\u001b[A\n",
            "model.safetensors:  79% 346M/440M [00:03<00:00, 104MB/s] \u001b[A\n",
            "model.safetensors:  86% 377M/440M [00:03<00:00, 132MB/s]\u001b[A\n",
            "model.safetensors:  93% 409M/440M [00:03<00:00, 155MB/s]\u001b[A\n",
            "model.safetensors: 100% 440M/440M [00:03<00:00, 122MB/s]\n",
            "\n",
            "tokenizer_config.json: 100% 350/350 [00:00<00:00, 2.55MB/s]\n",
            "\n",
            "vocab.txt: 100% 232k/232k [00:00<00:00, 39.0MB/s]\n",
            "\n",
            "tokenizer.json: 100% 466k/466k [00:00<00:00, 47.0MB/s]\n",
            "\n",
            "special_tokens_map.json: 100% 112/112 [00:00<00:00, 868kB/s]\n",
            "\n",
            "config.json: 100% 612/612 [00:00<00:00, 4.51MB/s]\n",
            "\n",
            "model.safetensors:   0% 0.00/90.9M [00:00<?, ?B/s]\u001b[A\n",
            "model.safetensors:  35% 31.5M/90.9M [00:00<00:00, 234MB/s]\u001b[A\n",
            "model.safetensors:  69% 62.9M/90.9M [00:00<00:00, 231MB/s]\u001b[A\n",
            "model.safetensors: 100% 90.9M/90.9M [00:00<00:00, 225MB/s]\n",
            "  1% 1/72 [00:09<11:24,  9.64s/it]============\n",
            "  3% 2/72 [00:10<05:19,  4.56s/it]============\n",
            "  4% 3/72 [00:11<03:14,  2.82s/it]============\n",
            "  6% 4/72 [00:12<02:17,  2.02s/it]============\n",
            "  7% 5/72 [00:12<01:44,  1.55s/it]============\n",
            "  8% 6/72 [00:13<01:23,  1.27s/it]============\n",
            " 10% 7/72 [00:14<01:13,  1.13s/it]============\n",
            " 11% 8/72 [00:16<01:32,  1.45s/it]============\n",
            " 12% 9/72 [00:17<01:19,  1.26s/it]============\n",
            " 14% 10/72 [00:18<01:08,  1.10s/it]============\n",
            " 15% 11/72 [00:19<01:01,  1.02s/it]============\n",
            " 17% 12/72 [00:19<00:56,  1.07it/s]============\n",
            " 18% 13/72 [00:20<00:52,  1.12it/s]============\n",
            " 19% 14/72 [00:21<00:50,  1.16it/s]============\n",
            " 21% 15/72 [00:22<00:49,  1.15it/s]============\n",
            " 22% 16/72 [00:23<00:46,  1.19it/s]============\n",
            " 24% 17/72 [00:23<00:44,  1.23it/s]============\n",
            " 25% 18/72 [00:24<00:42,  1.26it/s]============\n",
            " 26% 19/72 [00:25<00:42,  1.26it/s]============\n",
            " 28% 20/72 [00:26<00:42,  1.21it/s]============\n",
            " 29% 21/72 [00:27<00:43,  1.19it/s]============\n",
            " 31% 22/72 [00:27<00:35,  1.41it/s]============\n",
            " 32% 23/72 [00:28<00:39,  1.25it/s]============\n",
            " 33% 24/72 [00:29<00:38,  1.24it/s]============\n",
            " 35% 25/72 [00:30<00:36,  1.27it/s]============\n",
            " 36% 26/72 [00:31<00:38,  1.20it/s]============\n",
            " 38% 27/72 [00:31<00:36,  1.23it/s]============\n",
            " 39% 28/72 [00:32<00:35,  1.25it/s]============\n",
            " 40% 29/72 [00:33<00:34,  1.26it/s]============\n",
            " 42% 30/72 [00:34<00:32,  1.28it/s]============\n",
            " 43% 31/72 [00:34<00:31,  1.29it/s]============\n",
            " 44% 32/72 [00:35<00:30,  1.32it/s]============\n",
            " 46% 33/72 [00:36<00:29,  1.33it/s]============\n",
            " 47% 34/72 [00:37<00:28,  1.33it/s]============\n",
            " 49% 35/72 [00:37<00:28,  1.32it/s]============\n",
            " 50% 36/72 [00:38<00:27,  1.29it/s]============\n",
            " 51% 37/72 [00:39<00:28,  1.23it/s]============\n",
            " 53% 38/72 [00:40<00:29,  1.17it/s]============\n",
            " 54% 39/72 [00:41<00:28,  1.16it/s]============\n",
            " 56% 40/72 [00:41<00:22,  1.43it/s]============\n",
            " 57% 41/72 [00:42<00:21,  1.41it/s]============\n",
            " 58% 42/72 [00:43<00:21,  1.39it/s]============\n",
            " 60% 43/72 [00:43<00:21,  1.33it/s]============\n",
            " 61% 44/72 [00:44<00:20,  1.35it/s]============\n",
            " 62% 45/72 [00:45<00:20,  1.35it/s]============\n",
            " 64% 46/72 [00:46<00:19,  1.31it/s]============\n",
            " 65% 47/72 [00:47<00:19,  1.29it/s]============\n",
            " 67% 48/72 [00:47<00:18,  1.28it/s]============\n",
            " 68% 49/72 [00:48<00:17,  1.28it/s]============\n",
            " 69% 50/72 [00:49<00:17,  1.25it/s]============\n",
            " 71% 51/72 [00:50<00:17,  1.20it/s]============\n",
            " 72% 52/72 [00:51<00:16,  1.22it/s]============\n",
            " 74% 53/72 [00:51<00:13,  1.44it/s]============\n",
            " 75% 54/72 [00:52<00:13,  1.32it/s]============\n",
            " 76% 55/72 [00:53<00:13,  1.23it/s]============\n",
            " 78% 56/72 [00:54<00:12,  1.25it/s]============\n",
            " 79% 57/72 [00:54<00:11,  1.26it/s]============\n",
            " 81% 58/72 [00:55<00:11,  1.26it/s]============\n",
            " 82% 59/72 [00:56<00:10,  1.26it/s]============\n",
            " 83% 60/72 [00:57<00:09,  1.30it/s]============\n",
            " 85% 61/72 [00:58<00:08,  1.31it/s]============\n",
            " 86% 62/72 [00:58<00:07,  1.31it/s]============\n",
            " 88% 63/72 [00:59<00:06,  1.31it/s]============\n",
            " 89% 64/72 [01:00<00:05,  1.33it/s]============\n",
            " 90% 65/72 [01:01<00:05,  1.35it/s]============\n",
            " 92% 66/72 [01:01<00:03,  1.61it/s]============\n",
            " 93% 67/72 [01:02<00:03,  1.46it/s]============\n",
            " 94% 68/72 [01:02<00:02,  1.42it/s]============\n",
            " 96% 69/72 [01:03<00:02,  1.32it/s]============\n",
            " 97% 70/72 [01:04<00:01,  1.24it/s]============\n",
            " 99% 71/72 [01:05<00:00,  1.17it/s]============\n",
            "100% 72/72 [01:06<00:00,  1.08it/s]\n",
            "{\n",
            "  \"Answer\": {\n",
            "    \"Bert_score\": 0.398046574037936,\n",
            "    \"Cosine_similarity\": 0.15508681763377455\n",
            "  },\n",
            "  \"Evidence\": {\n",
            "    \"Bert_score\": 0.47398732519812053,\n",
            "    \"Cosine_similarity\": 0.2811613670653767\n",
            "  }\n",
            "}\n"
          ]
        }
      ],
      "source": [
        "!python evaluate_.py \\\n",
        "--predictions semantic_predictions.jsonl \\\n",
        "--gold data/qasper-test-v0.3.json \\\n",
        "--bert_type  bert-base-uncased \\\n",
        "--cosine_type sentence-transformers/all-MiniLM-L6-v2"
      ]
    },
    {
      "cell_type": "code",
      "execution_count": 4,
      "metadata": {
        "colab": {
          "base_uri": "https://localhost:8080/"
        },
        "id": "LPzQLcC1u--b",
        "outputId": "ddedf6bd-4a70-4665-9a97-2dbcb4164c7e"
      },
      "outputs": [
        {
          "name": "stdout",
          "output_type": "stream",
          "text": [
            "2024-07-27 11:14:21.983347: E external/local_xla/xla/stream_executor/cuda/cuda_dnn.cc:9261] Unable to register cuDNN factory: Attempting to register factory for plugin cuDNN when one has already been registered\n",
            "2024-07-27 11:14:21.983402: E external/local_xla/xla/stream_executor/cuda/cuda_fft.cc:607] Unable to register cuFFT factory: Attempting to register factory for plugin cuFFT when one has already been registered\n",
            "2024-07-27 11:14:21.985085: E external/local_xla/xla/stream_executor/cuda/cuda_blas.cc:1515] Unable to register cuBLAS factory: Attempting to register factory for plugin cuBLAS when one has already been registered\n",
            "2024-07-27 11:14:21.992890: I tensorflow/core/platform/cpu_feature_guard.cc:182] This TensorFlow binary is optimized to use available CPU instructions in performance-critical operations.\n",
            "To enable the following instructions: AVX2 FMA, in other operations, rebuild TensorFlow with the appropriate compiler flags.\n",
            "2024-07-27 11:14:23.236489: W tensorflow/compiler/tf2tensorrt/utils/py_utils.cc:38] TF-TRT Warning: Could not find TensorRT\n",
            "Use cuda \n",
            "  0% 0/54 [00:00<?, ?it/s]============\n",
            "  2% 1/54 [00:02<02:14,  2.53s/it]============\n",
            "  4% 2/54 [00:03<01:23,  1.61s/it]============\n",
            "  6% 3/54 [00:04<01:02,  1.22s/it]============\n",
            "  7% 4/54 [00:05<00:55,  1.11s/it]============\n",
            "  9% 5/54 [00:05<00:47,  1.03it/s]============\n",
            " 11% 6/54 [00:06<00:42,  1.12it/s]============\n",
            " 13% 7/54 [00:07<00:40,  1.16it/s]============\n",
            " 15% 8/54 [00:08<00:37,  1.21it/s]============\n",
            " 17% 9/54 [00:08<00:36,  1.24it/s]============\n",
            " 19% 10/54 [00:09<00:34,  1.26it/s]============\n",
            " 20% 11/54 [00:10<00:34,  1.25it/s]============\n",
            " 22% 12/54 [00:11<00:35,  1.19it/s]============\n",
            " 24% 13/54 [00:12<00:35,  1.15it/s]============\n",
            " 26% 14/54 [00:13<00:40,  1.02s/it]============\n",
            " 28% 15/54 [00:14<00:37,  1.04it/s]============\n",
            " 30% 16/54 [00:15<00:35,  1.06it/s]============\n",
            " 31% 17/54 [00:16<00:33,  1.12it/s]============\n",
            " 33% 18/54 [00:17<00:31,  1.15it/s]============\n",
            " 35% 19/54 [00:17<00:29,  1.19it/s]============\n",
            " 37% 20/54 [00:18<00:27,  1.22it/s]============\n",
            " 39% 21/54 [00:19<00:26,  1.25it/s]============\n",
            " 41% 22/54 [00:19<00:21,  1.51it/s]============\n",
            " 43% 23/54 [00:20<00:22,  1.40it/s]============\n",
            " 44% 24/54 [00:21<00:22,  1.31it/s]============\n",
            " 46% 25/54 [00:22<00:22,  1.30it/s]============\n",
            " 48% 26/54 [00:23<00:22,  1.25it/s]============\n",
            " 50% 27/54 [00:23<00:22,  1.21it/s]============\n",
            " 52% 28/54 [00:24<00:22,  1.15it/s]============\n",
            " 54% 29/54 [00:25<00:21,  1.15it/s]============\n",
            " 56% 30/54 [00:26<00:20,  1.18it/s]============\n",
            " 57% 31/54 [00:27<00:19,  1.19it/s]============\n",
            " 59% 32/54 [00:28<00:17,  1.24it/s]============\n",
            " 61% 33/54 [00:28<00:16,  1.25it/s]============\n",
            " 63% 34/54 [00:29<00:16,  1.24it/s]============\n",
            " 65% 35/54 [00:30<00:15,  1.26it/s]============\n",
            " 67% 36/54 [00:31<00:13,  1.29it/s]============\n",
            " 69% 37/54 [00:32<00:13,  1.30it/s]============\n",
            " 70% 38/54 [00:32<00:12,  1.29it/s]============\n",
            " 72% 39/54 [00:33<00:11,  1.29it/s]============\n",
            " 74% 40/54 [00:33<00:08,  1.56it/s]============\n",
            " 76% 41/54 [00:34<00:08,  1.46it/s]============\n",
            " 78% 42/54 [00:35<00:08,  1.40it/s]============\n",
            " 80% 43/54 [00:36<00:08,  1.26it/s]============\n",
            " 81% 44/54 [00:37<00:08,  1.21it/s]============\n",
            " 83% 45/54 [00:38<00:07,  1.19it/s]============\n",
            " 85% 46/54 [00:39<00:06,  1.19it/s]============\n",
            " 87% 47/54 [00:39<00:05,  1.20it/s]============\n",
            " 89% 48/54 [00:40<00:04,  1.22it/s]============\n",
            " 91% 49/54 [00:41<00:03,  1.26it/s]============\n",
            " 93% 50/54 [00:42<00:03,  1.26it/s]============\n",
            " 94% 51/54 [00:42<00:02,  1.27it/s]============\n",
            " 96% 52/54 [00:43<00:01,  1.29it/s]============\n",
            " 98% 53/54 [00:44<00:00,  1.56it/s]============\n",
            "100% 54/54 [00:44<00:00,  1.20it/s]\n",
            "{\n",
            "  \"Answer\": {\n",
            "    \"Bert_score\": 0.4083175841304991,\n",
            "    \"Cosine_similarity\": 0.17805017775821466\n",
            "  },\n",
            "  \"Evidence\": {\n",
            "    \"Bert_score\": 0.47973724868562484,\n",
            "    \"Cosine_similarity\": 0.29210062890692995\n",
            "  }\n",
            "}\n"
          ]
        }
      ],
      "source": [
        "!python evaluate_.py \\\n",
        "--predictions sparse_predictions.jsonl \\\n",
        "--gold data/qasper-test-v0.3.json \\\n",
        "--bert_type  bert-base-uncased \\\n",
        "--cosine_type sentence-transformers/all-MiniLM-L6-v2"
      ]
    }
  ],
  "metadata": {
    "accelerator": "GPU",
    "colab": {
      "collapsed_sections": [
        "EIQfR9nVh4pr"
      ],
      "gpuType": "T4",
      "provenance": []
    },
    "kernelspec": {
      "display_name": "Python 3",
      "name": "python3"
    },
    "language_info": {
      "name": "python"
    }
  },
  "nbformat": 4,
  "nbformat_minor": 0
}
